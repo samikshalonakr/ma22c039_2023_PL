{
  "nbformat": 4,
  "nbformat_minor": 0,
  "metadata": {
    "colab": {
      "provenance": []
    },
    "kernelspec": {
      "name": "python3",
      "display_name": "Python 3"
    },
    "language_info": {
      "name": "python"
    }
  },
  "cells": [
    {
      "cell_type": "code",
      "execution_count": 4,
      "metadata": {
        "id": "EvtmyX4p4qN4"
      },
      "outputs": [],
      "source": [
        "#defining a matrix for given k & n:\n",
        "import numpy as np\n",
        "\n",
        "def create_averaging_matrix(n, k):\n",
        "    # Create a matrix with ones on diagonals, superdiagonals, and subdiagonals\n",
        "    A = np.eye(n)  # Diagonal\n",
        "    for i in range(1, k + 1):\n",
        "        A += np.eye(n, k=i) + np.eye(n, k=-i)\n",
        "\n",
        "    # Normalize rows to make row sums equal one\n",
        "    A /= np.sum(A, axis=1)[:, np.newaxis]\n",
        "\n",
        "    return A"
      ]
    },
    {
      "cell_type": "code",
      "source": [
        "# Apply A to a vector x with entries xj = (-1)^j\n",
        "n_x = 20\n",
        "k_x = 2\n",
        "x = np.array([(-1) ** j for j in range(n_x)])\n",
        "result_vector_x = np.dot(create_averaging_matrix(n_x, k_x), x)"
      ],
      "metadata": {
        "id": "tza0_0k1UevJ"
      },
      "execution_count": 5,
      "outputs": []
    },
    {
      "cell_type": "code",
      "source": [
        "# Apply A to a vector f(x) = x^2 + 2 * sin(10x)\n",
        "n_fx = 1000\n",
        "k_fx = 100\n",
        "x_values = np.linspace(0, 10, n_fx)\n",
        "f_x = x_values**2 + 2 * np.sin(10 * x_values)\n",
        "result_vector_fx = np.dot(create_averaging_matrix(n_fx, k_fx), f_x)"
      ],
      "metadata": {
        "id": "G7CcnZYtUi8I"
      },
      "execution_count": 6,
      "outputs": []
    },
    {
      "cell_type": "code",
      "source": [],
      "metadata": {
        "id": "5yywdccPVQCy"
      },
      "execution_count": null,
      "outputs": []
    }
  ]
}