{
  "nbformat": 4,
  "nbformat_minor": 0,
  "metadata": {
    "colab": {
      "provenance": []
    },
    "kernelspec": {
      "name": "python3",
      "display_name": "Python 3"
    },
    "language_info": {
      "name": "python"
    }
  },
  "cells": [
    {
      "cell_type": "code",
      "source": [
        "def swaprow(i, j, A):\n",
        "    tmp = A[i, :]\n",
        "    A[i, :] = A[j, :]\n",
        "    A[j, :] = tmp"
      ],
      "metadata": {
        "id": "3uBXj0eK2HIz"
      },
      "execution_count": 1,
      "outputs": []
    },
    {
      "cell_type": "code",
      "source": [
        "#For large arrays, the code may be inefficient.\n",
        "#Swapping rows by copying individual components one at a time can be time consuming, especially with huge arrays.\n",
        "#Use NumPy's array slicing and swapping features, which are faster because NumPy operates at the C level and can do bulk memory operations."
      ],
      "metadata": {
        "id": "Nk3zbUq72RFi"
      },
      "execution_count": 3,
      "outputs": []
    },
    {
      "cell_type": "code",
      "source": [
        "# The modified code:\n",
        "import numpy as np\n",
        "\n",
        "def swaprow(i, j, A):\n",
        "    A[i, :], A[j, :] = A[j, :].copy(), A[i, :].copy()"
      ],
      "metadata": {
        "id": "y0C_nTs_4OWD"
      },
      "execution_count": 4,
      "outputs": []
    },
    {
      "cell_type": "code",
      "source": [],
      "metadata": {
        "id": "rgKZBYSC4kff"
      },
      "execution_count": null,
      "outputs": []
    }
  ]
}