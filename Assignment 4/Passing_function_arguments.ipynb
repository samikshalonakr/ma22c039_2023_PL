{
  "nbformat": 4,
  "nbformat_minor": 0,
  "metadata": {
    "colab": {
      "provenance": []
    },
    "kernelspec": {
      "name": "python3",
      "display_name": "Python 3"
    },
    "language_info": {
      "name": "python"
    }
  },
  "cells": [
    {
      "cell_type": "code",
      "execution_count": 2,
      "metadata": {
        "id": "VXDbxJ9-ReZh"
      },
      "outputs": [],
      "source": [
        "def twice(w):\n",
        "    \"\"\"Replace w by 2*w\"\"\"\n",
        "    w *= 2"
      ]
    },
    {
      "cell_type": "code",
      "source": [
        "v = [2, 5, 1]\n",
        "twice(v)"
      ],
      "metadata": {
        "id": "lhddoVqbRvlX"
      },
      "execution_count": 3,
      "outputs": []
    },
    {
      "cell_type": "code",
      "source": [
        "# Import the necessary libraries\n",
        "import numpy as np"
      ],
      "metadata": {
        "id": "v3Sb_x5TGt-d"
      },
      "execution_count": 2,
      "outputs": []
    },
    {
      "cell_type": "code",
      "source": [
        "# Define the function 'twice' which multiplies a given input 'w' by 2\n",
        "def twice(w):\n",
        "    \"\"\"Replace w by 2*w\"\"\"\n",
        "    w *= 2"
      ],
      "metadata": {
        "id": "TcGCSrm_HXqb"
      },
      "execution_count": 3,
      "outputs": []
    },
    {
      "cell_type": "code",
      "source": [
        "# Case 1: v is a numpy array\n",
        "# Explanation:\n",
        "# Numpy arrays are mutable objects in Python. When you pass a numpy array 'v' to the 'twice' function,\n",
        "# it modifies the original array 'v' in-place, and no deep copy is made. This is because numpy arrays\n",
        "# have a view-based approach and often behave like pointers, allowing efficient operations on large data.\n",
        "v_numpy = np.array([2, 5, 1])\n",
        "twice(v_numpy)\n",
        "print(\"After calling twice(v_numpy):\", v_numpy)  # 'v_numpy' has been modified in-place"
      ],
      "metadata": {
        "colab": {
          "base_uri": "https://localhost:8080/"
        },
        "id": "bN6aL_wPHdqJ",
        "outputId": "1431ec60-3ec6-41f0-e9f2-73eae8d6f4c6"
      },
      "execution_count": 4,
      "outputs": [
        {
          "output_type": "stream",
          "name": "stdout",
          "text": [
            "After calling twice(v_numpy): [ 4 10  2]\n"
          ]
        }
      ]
    },
    {
      "cell_type": "code",
      "source": [
        "# Case 2: v is a string\n",
        "# Explanation:\n",
        "# Strings in Python are immutable objects. When you pass a string 'v' to the 'twice' function,\n",
        "# it creates a new string object with the result of the operation and assigns it to 'w'.\n",
        "# The original string 'v' remains unchanged. Therefore, a deep copy is implicitly made.\n",
        "v_string = \"Hello\"\n",
        "twice(v_string)\n",
        "print(\"After calling twice(v_string):\", v_string)  # 'v_string' remains unchanged"
      ],
      "metadata": {
        "colab": {
          "base_uri": "https://localhost:8080/"
        },
        "id": "CE_6uHikHj9-",
        "outputId": "59d280ac-8f88-4401-d8d1-c48f92a0707c"
      },
      "execution_count": 5,
      "outputs": [
        {
          "output_type": "stream",
          "name": "stdout",
          "text": [
            "After calling twice(v_string): Hello\n"
          ]
        }
      ]
    },
    {
      "cell_type": "code",
      "source": [
        "# Summary:\n",
        "# - For numpy arrays or mutable objects, modifications made within the function affect the original object.\n",
        "# - For immutable objects like strings, a new object is created within the function, and the original object remains unchanged."
      ],
      "metadata": {
        "id": "iBAhbY2HHn26"
      },
      "execution_count": 6,
      "outputs": []
    },
    {
      "cell_type": "code",
      "source": [],
      "metadata": {
        "id": "6BbK7vVmHtOo"
      },
      "execution_count": null,
      "outputs": []
    }
  ]
}