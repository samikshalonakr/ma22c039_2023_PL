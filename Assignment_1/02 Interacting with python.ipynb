{
  "nbformat": 4,
  "nbformat_minor": 0,
  "metadata": {
    "colab": {
      "provenance": []
    },
    "kernelspec": {
      "name": "python3",
      "display_name": "Python 3"
    },
    "language_info": {
      "name": "python"
    }
  },
  "cells": [
    {
      "cell_type": "code",
      "execution_count": null,
      "metadata": {
        "id": "dOd2gSkZH0La"
      },
      "outputs": [],
      "source": [
        "# Here we will Interact with Python"
      ]
    },
    {
      "cell_type": "code",
      "source": [
        "from math import cos, sqrt, pi\n",
        "cos(pi*sqrt(pi))**7"
      ],
      "metadata": {
        "colab": {
          "base_uri": "https://localhost:8080/"
        },
        "id": "2QZHF65BIQ8l",
        "outputId": "465354de-3d0a-478d-ccb7-65ae3ecb199a"
      },
      "execution_count": null,
      "outputs": [
        {
          "output_type": "execute_result",
          "data": {
            "text/plain": [
              "0.14008146171564725"
            ]
          },
          "metadata": {},
          "execution_count": 1
        }
      ]
    },
    {
      "cell_type": "code",
      "source": [
        "#------- myfirstpy.py ---------------------------------\n",
        "from math import cos, sqrt, pi\n",
        "print('Hello, I can compute! ')\n",
        "x = 3\n",
        "y = cos(pi*sqrt(pi)*x)**7\n",
        "print('Starting from x =', x, 'we have computed y=', y)\n",
        "#------------------------------------------------------"
      ],
      "metadata": {
        "colab": {
          "base_uri": "https://localhost:8080/"
        },
        "id": "e680A_zIJxyQ",
        "outputId": "a18d5ba8-31bd-4aeb-8517-264d557e1734"
      },
      "execution_count": null,
      "outputs": [
        {
          "output_type": "stream",
          "name": "stdout",
          "text": [
            "Hello, I can compute! \n",
            "Starting from x = 3 we have computed y= -0.013884089495354414\n"
          ]
        }
      ]
    },
    {
      "cell_type": "code",
      "source": [
        "# %load ../pyfiles/myfirstpy.py\n",
        "from math import cos, sqrt, pi\n",
        "print('Hello, I can compute! ')\n",
        "x = 3\n",
        "y = cos(pi*sqrt(pi)*x)**7\n",
        "print('Starting from x =', x, 'we have computed y=', y)"
      ],
      "metadata": {
        "id": "zFFT3GCgJ1CV",
        "outputId": "e825934d-6ceb-4c26-a61d-036af9f1f96f",
        "colab": {
          "base_uri": "https://localhost:8080/"
        }
      },
      "execution_count": null,
      "outputs": [
        {
          "output_type": "stream",
          "name": "stdout",
          "text": [
            "Hello, I can compute! \n",
            "Starting from x = 3 we have computed y= -0.013884089495354414\n"
          ]
        }
      ]
    },
    {
      "cell_type": "code",
      "source": [],
      "metadata": {
        "id": "9zwu5xdqJ5jO"
      },
      "execution_count": null,
      "outputs": []
    }
  ]
}