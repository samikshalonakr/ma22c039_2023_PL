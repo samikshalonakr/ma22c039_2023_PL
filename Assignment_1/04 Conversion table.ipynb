{
  "nbformat": 4,
  "nbformat_minor": 0,
  "metadata": {
    "colab": {
      "provenance": []
    },
    "kernelspec": {
      "name": "python3",
      "display_name": "Python 3"
    },
    "language_info": {
      "name": "python"
    }
  },
  "cells": [
    {
      "cell_type": "code",
      "execution_count": null,
      "metadata": {
        "id": "l4t_Piq9L1Tb"
      },
      "outputs": [],
      "source": [
        "# Conversion table\n",
        "# while loop\n",
        "\n",
        "print('F C')\n",
        "C = 0\n",
        "while  C <= 250:\n",
        "       F = 9 * C / 5 + 32\n",
        "print(F, C)\n",
        "C += 10\n",
        "\n"
      ]
    },
    {
      "cell_type": "code",
      "source": [
        "from google.colab import drive\n",
        "drive.mount('/content/drive')"
      ],
      "metadata": {
        "id": "8vKvUaSGXuBP"
      },
      "execution_count": null,
      "outputs": []
    },
    {
      "cell_type": "code",
      "source": [
        "#Adjusting the printed output\n",
        "\n",
        "print(' F C')\n",
        "C = 0\n",
        "while C <= 250:\n",
        "      F = 9 * C / 5 + 32\n",
        "      print('%4.0f %4.0f' % (F, C))\n",
        "      C += 10"
      ],
      "metadata": {
        "id": "GJYdaiYvL9bA"
      },
      "execution_count": null,
      "outputs": []
    },
    {
      "cell_type": "code",
      "source": [
        "#Do the same using for loop\n",
        "\n",
        "print(' F C')\n",
        "for C in range(0, 250, 10):\n",
        "    F = 9 * C / 5 + 32\n",
        "    print('%4.0f %4.0f' % (F, C))\n"
      ],
      "metadata": {
        "id": "Qm_PeI55NChm"
      },
      "execution_count": null,
      "outputs": []
    },
    {
      "cell_type": "code",
      "source": [
        "# Is there a temperature whose F and C values are equal?\n",
        "\n",
        "print(' F C')\n",
        "for C in range(-50, 50, 5):\n",
        "    F = 9 * C / 5 + 32\n",
        "print('%4.0f %4.0f' % (F, C))"
      ],
      "metadata": {
        "id": "NSAr4d8lNMA1"
      },
      "execution_count": null,
      "outputs": []
    },
    {
      "cell_type": "code",
      "source": [
        "# Store in a list\n",
        "Cs = [0, 10] # create list using []\n",
        "Cs.append(20) # modify by appending an entry\n",
        "Cs\n"
      ],
      "metadata": {
        "id": "3IEMQ6AFNcS0"
      },
      "execution_count": null,
      "outputs": []
    },
    {
      "cell_type": "code",
      "source": [
        "Cs = (0, 10)"
      ],
      "metadata": {
        "id": "QnKR0VSRNhA9"
      },
      "execution_count": null,
      "outputs": []
    },
    {
      "cell_type": "code",
      "source": [
        "Cs = [] # empty list\n",
        "Fs = []\n",
        "for C in range(0, 250, 25):\n",
        "    Cs.append(C)\n",
        "Fs.append(9 * C / 5 + 32)"
      ],
      "metadata": {
        "id": "utTVKKlwNh4Y"
      },
      "execution_count": null,
      "outputs": []
    },
    {
      "cell_type": "code",
      "source": [
        "print(Cs)"
      ],
      "metadata": {
        "id": "sfmjpFvlNnJZ"
      },
      "execution_count": null,
      "outputs": []
    },
    {
      "cell_type": "code",
      "source": [
        "print(Fs)"
      ],
      "metadata": {
        "id": "M8_xW8nQNoje"
      },
      "execution_count": null,
      "outputs": []
    },
    {
      "cell_type": "code",
      "source": [
        "print(' F C')\n",
        "for C, F in zip(Cs, Fs):\n",
        "    print('%4.0f %4.0f' % (F, C))"
      ],
      "metadata": {
        "id": "6IsrXY_fNqsq"
      },
      "execution_count": null,
      "outputs": []
    },
    {
      "cell_type": "code",
      "source": [
        "# List comprehension\n",
        "\n",
        "Fs = [9 * C / 5 + 32 for C in Cs]"
      ],
      "metadata": {
        "id": "LCrkffziNvaf"
      },
      "execution_count": null,
      "outputs": []
    }
  ]
}