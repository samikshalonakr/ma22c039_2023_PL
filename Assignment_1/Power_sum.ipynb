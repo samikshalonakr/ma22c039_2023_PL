{
  "nbformat": 4,
  "nbformat_minor": 0,
  "metadata": {
    "colab": {
      "provenance": []
    },
    "kernelspec": {
      "name": "python3",
      "display_name": "Python 3"
    },
    "language_info": {
      "name": "python"
    }
  },
  "cells": [
    {
      "cell_type": "markdown",
      "source": [
        "Sum up integer powers"
      ],
      "metadata": {
        "id": "JARHBL1LNWVk"
      }
    },
    {
      "cell_type": "code",
      "execution_count": 16,
      "metadata": {
        "colab": {
          "base_uri": "https://localhost:8080/"
        },
        "id": "DaK9i07kFz05",
        "outputId": "977d904d-4d3c-4509-a7f0-eeb5ea5d468e"
      },
      "outputs": [
        {
          "output_type": "stream",
          "name": "stdout",
          "text": [
            "Enter the value of terminal point of range of n:  \n",
            "5\n",
            "N =  5\n",
            "Enter the value of power of n:  \n",
            "2\n",
            "i =  2\n",
            "The power sum is: \n",
            " 55\n"
          ]
        }
      ],
      "source": [
        "# Here we calculate the sum of n^i integers.\n",
        "# Where the value of n can vary from 1 to any integer N and the power i is fixed.\n",
        "\n",
        "\n",
        "\n",
        "N=int(input(\"Enter the value of terminal point of range of n:  \\n\")) # The range for n.\n",
        "print(\"N = \",(N))\n",
        "i=int(input(\"Enter the value of power of n:  \\n\"))                   # Power of n.\n",
        "print(\"i = \",(i))\n",
        "S=0                                                                  # initial sum.\n",
        "\n",
        "# We will calulate the sum using for loop.\n",
        "\n",
        "for n in range(1,N+1):\n",
        "  S += pow(n,i)\n",
        "print(\"The power sum is: \\n\",(S))\n",
        "\n"
      ]
    },
    {
      "cell_type": "code",
      "source": [],
      "metadata": {
        "id": "dB_uPLsxHh14"
      },
      "execution_count": null,
      "outputs": []
    }
  ]
}