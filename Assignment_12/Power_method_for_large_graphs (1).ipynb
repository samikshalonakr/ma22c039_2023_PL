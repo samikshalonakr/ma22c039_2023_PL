{
  "nbformat": 4,
  "nbformat_minor": 0,
  "metadata": {
    "colab": {
      "provenance": []
    },
    "kernelspec": {
      "name": "python3",
      "display_name": "Python 3"
    },
    "language_info": {
      "name": "python"
    }
  },
  "cells": [
    {
      "cell_type": "markdown",
      "source": [
        "Task 1: Compute the stationary distribution of the Markov chain from Gambler’s ruin with p = 0.4, N = 10. (Do this task with eig.) Do you get more than one stationary distribution?"
      ],
      "metadata": {
        "id": "MI-o9G--7Iff"
      }
    },
    {
      "cell_type": "code",
      "source": [
        "import numpy as np\n",
        "\n",
        "p = 0.4\n",
        "N = 10\n",
        "\n",
        "               ##### Create the transition matrix P ######\n",
        "P = np.zeros((N + 1, N + 1))\n",
        "for i in range(N + 1):\n",
        "    P[i, i] = 1 - p\n",
        "    if i < N:\n",
        "        P[i, i + 1] = p\n",
        "    if i > 0:\n",
        "        P[i, i - 1] = 1 - p\n",
        "\n",
        "             ###### Use eig to find the stationary distribution #######\n",
        "eigenvalues, eigenvectors = np.linalg.eig(P.T)\n",
        "stationary_distribution = np.real(eigenvectors[:, 0] / np.sum(eigenvectors[:, 0]))\n",
        "\n",
        "print(stationary_distribution)"
      ],
      "metadata": {
        "colab": {
          "base_uri": "https://localhost:8080/"
        },
        "id": "KAqgPVds7KVq",
        "outputId": "6f65c883-40fe-480b-fd16-906bbae322ff"
      },
      "execution_count": 1,
      "outputs": [
        {
          "output_type": "stream",
          "name": "stdout",
          "text": [
            "[ 2.98220472 -4.70398142  5.43168988 -5.43168988  4.94655091 -4.18131682\n",
            "  3.29770061 -2.41408439  1.6093896  -0.92918152  0.39271832]\n"
          ]
        }
      ]
    },
    {
      "cell_type": "code",
      "source": [
        "N = 10\n",
        "r_values = [0.1, 0.01, 1e-3, 1e-4]\n",
        "\n",
        "for r in r_values:\n",
        "    P = np.zeros((N + 1, N + 1))\n",
        "    for i in range(N + 1):\n",
        "        P[i, i] = (1 - r) / (N + 1)\n",
        "        for j in range(N + 1):\n",
        "            if i != j:\n",
        "                P[i, j] = r / (N)\n",
        "\n",
        "    eigenvalues, eigenvectors = np.linalg.eig(P.T)\n",
        "    pagerank = np.real(eigenvectors[:, 0] / np.sum(eigenvectors[:, 0]))\n",
        "\n",
        "    print(f\"PageRank for r = {r}:\")\n",
        "    print(pagerank)"
      ],
      "metadata": {
        "colab": {
          "base_uri": "https://localhost:8080/"
        },
        "id": "YlL2QV9y7N1s",
        "outputId": "224daeb3-c89c-4e4e-8cac-9ea3116f4a9c"
      },
      "execution_count": 2,
      "outputs": [
        {
          "output_type": "stream",
          "name": "stdout",
          "text": [
            "PageRank for r = 0.1:\n",
            "[ 2.64247001e+15 -2.64247001e+14 -2.64247001e+14 -2.64247001e+14\n",
            " -2.64247001e+14 -2.64247001e+14 -2.64247001e+14 -2.64247001e+14\n",
            " -2.64247001e+14 -2.64247001e+14 -2.64247001e+14]\n",
            "PageRank for r = 0.01:\n",
            "[ 3.15156973e+14 -3.15156973e+13 -3.15156973e+13 -3.15156973e+13\n",
            " -3.15156973e+13 -3.15156973e+13 -3.15156973e+13 -3.15156973e+13\n",
            " -3.15156973e+13 -3.15156973e+13 -3.15156973e+13]\n",
            "PageRank for r = 0.001:\n",
            "[-2.52218136e+13  2.52218136e+12  2.52218136e+12  2.52218136e+12\n",
            "  2.52218136e+12  2.52218136e+12  2.52218136e+12  2.52218136e+12\n",
            "  2.52218136e+12  2.52218136e+12  2.52218136e+12]\n",
            "PageRank for r = 0.0001:\n",
            "[-2.25407547e+12  2.25407547e+11  2.25407547e+11  2.25407547e+11\n",
            "  2.25407547e+11  2.25407547e+11  2.25407547e+11  2.25407547e+11\n",
            "  2.25407547e+11  2.25407547e+11  2.25407547e+11]\n"
          ]
        }
      ]
    },
    {
      "cell_type": "code",
      "source": [
        "def powerP(x, aPt, r=0.1, maxn=1000, tol=1e-10):\n",
        "    n = 1\n",
        "    prev_x = x\n",
        "\n",
        "    while n <= maxn:\n",
        "        x = (1 - r) * aPt(x) + r / len(x)\n",
        "        x /= np.linalg.norm(x, 1)\n",
        "\n",
        "        if np.linalg.norm(x - prev_x, 1) < tol:\n",
        "            return x\n",
        "\n",
        "        prev_x = x\n",
        "        n += 1\n",
        "\n",
        "    return x\n",
        "\n",
        "# Define the parameters\n",
        "N = 100000\n",
        "r = 0.1\n",
        "\n",
        "# Define a function to apply Pt to a vector\n",
        "def apply_Pt(x):\n",
        "    # Define the transition matrix P here...\n",
        "    return P.T @ x\n",
        "\n",
        "# Create the transition matrix P (in this case, a simple example)\n",
        "P = np.zeros((N + 1, N + 1))\n",
        "for i in range(N + 1):\n",
        "    P[i, i] = 1.0 / (N + 1)\n",
        "    if i < N:\n",
        "        P[i, i + 1] = r\n",
        "        P[i, i] = 1 - r\n",
        "\n",
        "# Initialize the initial probability distribution (random)\n",
        "initial_distribution = np.random.rand(N + 1)\n",
        "initial_distribution /= np.sum(initial_distribution)\n",
        "\n",
        "# Compute the PageRank using the power method\n",
        "pagerank = powerP(initial_distribution, apply_Pt, r=r)\n",
        "\n",
        "print(\"PageRank for r =\", r, \"and N =\", N, \"for the ruin state:\")\n",
        "print(pagerank)"
      ],
      "metadata": {
        "id": "EUZBbpGG7Qsd"
      },
      "execution_count": null,
      "outputs": []
    },
    {
      "cell_type": "code",
      "source": [
        "import numpy as np\n",
        "\n",
        "def powerP(x, aPt, r=0.1, maxn=1000, tol=1e-10):\n",
        "    n = 1\n",
        "    prev_x = x\n",
        "\n",
        "    while n <= maxn:\n",
        "        x = (1 - r) * aPt(x) + r / len(x)\n",
        "        x /= np.linalg.norm(x, 1)\n",
        "\n",
        "        if np.linalg.norm(x - prev_x, 1) < tol:\n",
        "            return x\n",
        "\n",
        "        prev_x = x\n",
        "        n += 1\n",
        "\n",
        "    return x\n",
        "\n",
        "# Define a function to apply Pt to a vector\n",
        "def apply_Pt(x):\n",
        "    return P.T @ x\n",
        "\n",
        "# Example usage\n",
        "N = 100000\n",
        "r = 0.1\n",
        "P = np.zeros((N + 1, N + 1))\n",
        "# Define the transition matrix P here...\n",
        "\n",
        "initial_distribution = np.ones(N + 1) / (N + 1)\n",
        "pagerank = powerP(initial_distribution, apply_Pt, r=r)\n",
        "print(\"PageRank for r = 0.1 and N = 100000:\")\n",
        "print(pagerank)"
      ],
      "metadata": {
        "id": "DezgB_n57gK0"
      },
      "execution_count": null,
      "outputs": []
    },
    {
      "cell_type": "code",
      "source": [],
      "metadata": {
        "id": "zgA_711W7k2X"
      },
      "execution_count": null,
      "outputs": []
    }
  ]
}