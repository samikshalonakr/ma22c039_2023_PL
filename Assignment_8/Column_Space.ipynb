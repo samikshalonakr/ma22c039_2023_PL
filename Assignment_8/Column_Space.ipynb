{
  "nbformat": 4,
  "nbformat_minor": 0,
  "metadata": {
    "colab": {
      "provenance": []
    },
    "kernelspec": {
      "name": "python3",
      "display_name": "Python 3"
    },
    "language_info": {
      "name": "python"
    }
  },
  "cells": [
    {
      "cell_type": "code",
      "execution_count": 3,
      "metadata": {
        "id": "vOElok3uiYf4"
      },
      "outputs": [],
      "source": [
        "import numpy as np\n",
        "from scipy.linalg import svd, qr\n",
        "A = np.array([[1, -2, 3, -3], [2, -4, 9, -2], [-3, 6, -9, 9]])"
      ]
    },
    {
      "cell_type": "code",
      "source": [
        "#Task 1: Compute Basis for Range (Column Space)\n",
        "\n",
        "# Compute SVD\n",
        "U, Sigma, VT = svd(A)\n",
        "\n",
        "# Compute basis for range using SVD\n",
        "basis_svd = U[:, :np.linalg.matrix_rank(A)]\n",
        "\n",
        "# Compute QR factorization\n",
        "Q, R = qr(A)\n",
        "\n",
        "# Compute basis for range using QR\n",
        "basis_qr = Q[:, :np.linalg.matrix_rank(A)]\n",
        "\n",
        "print(\"Basis for Range (Column Space) using SVD:\")\n",
        "print(basis_svd)\n",
        "\n",
        "print(\"\\nBasis for Range (Column Space) using QR:\")\n",
        "print(basis_qr)"
      ],
      "metadata": {
        "colab": {
          "base_uri": "https://localhost:8080/"
        },
        "id": "g7GoNU6wigpm",
        "outputId": "8df11323-2c31-4d09-97c1-e89323757e6d"
      },
      "execution_count": 4,
      "outputs": [
        {
          "output_type": "stream",
          "name": "stdout",
          "text": [
            "Basis for Range (Column Space) using SVD:\n",
            "[[ 0.26623586  0.17064134]\n",
            " [ 0.5396153  -0.84191171]\n",
            " [-0.79870758 -0.51192403]]\n",
            "\n",
            "Basis for Range (Column Space) using QR:\n",
            "[[-0.26726124  0.95618289]\n",
            " [-0.53452248 -0.04390192]\n",
            " [ 0.80178373  0.28945968]]\n"
          ]
        }
      ]
    },
    {
      "cell_type": "code",
      "source": [
        "#Task 2: Check if Column Spaces are the Same\n",
        "# Check if bases are equivalent\n",
        "bases_equal = np.allclose(basis_svd, basis_qr)\n",
        "print(\"\\nAre the bases equivalent?\", bases_equal)"
      ],
      "metadata": {
        "colab": {
          "base_uri": "https://localhost:8080/"
        },
        "id": "5VnLGniFjB-o",
        "outputId": "6ab6d332-5e84-4ff0-8ba2-3b5896bb695c"
      },
      "execution_count": 5,
      "outputs": [
        {
          "output_type": "stream",
          "name": "stdout",
          "text": [
            "\n",
            "Are the bases equivalent? False\n"
          ]
        }
      ]
    },
    {
      "cell_type": "code",
      "source": [
        "#Task 3: Compare Speed for a 500x500 Random Matrix\n",
        "import time\n",
        "\n",
        "# Generate a random 500x500 matrix\n",
        "random_matrix = np.random.rand(500, 500)\n",
        "\n",
        "# Time SVD\n",
        "start_time_svd = time.time()\n",
        "U_r, Sigma_r, VT_r = svd(random_matrix)\n",
        "end_time_svd = time.time()\n",
        "time_svd = end_time_svd - start_time_svd\n",
        "\n",
        "# Time QR\n",
        "start_time_qr = time.time()\n",
        "Q_r, R_r = qr(random_matrix)\n",
        "end_time_qr = time.time()\n",
        "time_qr = end_time_qr - start_time_qr\n",
        "\n",
        "print(f\"\\nTime taken for SVD: {time_svd} seconds\")\n",
        "print(f\"Time taken for QR: {time_qr} seconds\")"
      ],
      "metadata": {
        "colab": {
          "base_uri": "https://localhost:8080/"
        },
        "id": "L-urqeO5jTf5",
        "outputId": "1cde5cb7-613d-419f-ec8f-d52649c552b0"
      },
      "execution_count": 6,
      "outputs": [
        {
          "output_type": "stream",
          "name": "stdout",
          "text": [
            "\n",
            "Time taken for SVD: 0.22278380393981934 seconds\n",
            "Time taken for QR: 0.033879995346069336 seconds\n"
          ]
        }
      ]
    },
    {
      "cell_type": "code",
      "source": [],
      "metadata": {
        "id": "6dYbde-KjcEc"
      },
      "execution_count": null,
      "outputs": []
    }
  ]
}