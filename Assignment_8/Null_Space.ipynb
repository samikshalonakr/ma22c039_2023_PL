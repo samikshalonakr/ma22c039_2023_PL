{
  "nbformat": 4,
  "nbformat_minor": 0,
  "metadata": {
    "colab": {
      "provenance": []
    },
    "kernelspec": {
      "name": "python3",
      "display_name": "Python 3"
    },
    "language_info": {
      "name": "python"
    }
  },
  "cells": [
    {
      "cell_type": "code",
      "execution_count": 1,
      "metadata": {
        "colab": {
          "base_uri": "https://localhost:8080/"
        },
        "id": "KFh_aY2Qjh-l",
        "outputId": "d6bfe15e-d5c7-4d91-b773-8bec2a10fa82"
      },
      "outputs": [
        {
          "output_type": "execute_result",
          "data": {
            "text/plain": [
              "array([[ 1, -2,  9,  5,  4],\n",
              "       [ 1, -1,  6,  5, -3],\n",
              "       [-2,  0, -6,  1, -2],\n",
              "       [ 4,  1,  9,  1, -9]])"
            ]
          },
          "metadata": {},
          "execution_count": 1
        }
      ],
      "source": [
        "import numpy as np\n",
        "from scipy.linalg import svd, qr\n",
        "A = np.array([[1, -2, 9, 5, 4,], [1, -1, 6, 5, -3], [-2, 0, -6, 1, -2],[4, 1, 9, 1, -9]])\n",
        "A"
      ]
    },
    {
      "cell_type": "code",
      "source": [
        "# Task 1: Find the null space of the given matrix A using SVD.\n",
        "U, s, Vt = np.linalg.svd(A)\n",
        "null_space_svd = Vt[-1,:]\n",
        "print(\"Task 1 - Null Space (SVD):\", null_space_svd)"
      ],
      "metadata": {
        "colab": {
          "base_uri": "https://localhost:8080/"
        },
        "id": "OTpz9rDFjsgm",
        "outputId": "96735510-904d-4a51-c20b-3867493bec0e"
      },
      "execution_count": 2,
      "outputs": [
        {
          "output_type": "stream",
          "name": "stdout",
          "text": [
            "Task 1 - Null Space (SVD): [ 0.26466093  0.8870317  -0.08822031  0.32905504  0.16452752]\n"
          ]
        }
      ]
    },
    {
      "cell_type": "code",
      "source": [
        "# Task 2: Find the null space of the same matrix A using the QR factorization.\n",
        "Q, R = np.linalg.qr(A.T)\n",
        "null_space_qr = Q[:, np.sum(np.abs(R) < 1e-10, axis=1) == 0]\n",
        "print(\"\\nTask 2 - Null Space (QR):\", null_space_qr)"
      ],
      "metadata": {
        "colab": {
          "base_uri": "https://localhost:8080/"
        },
        "id": "2XXC7bqgkcaU",
        "outputId": "9b94ddbf-1bfb-4718-d0f4-30349d0fa707"
      },
      "execution_count": 3,
      "outputs": [
        {
          "output_type": "stream",
          "name": "stdout",
          "text": [
            "\n",
            "Task 2 - Null Space (QR): [[-0.08873565]\n",
            " [ 0.1774713 ]\n",
            " [-0.79862086]\n",
            " [-0.44367825]\n",
            " [-0.3549426 ]]\n"
          ]
        }
      ]
    },
    {
      "cell_type": "code",
      "source": [
        "# Task 3: Check that both answers above span the same space.\n",
        "span_check = np.allclose(null_space_svd, null_space_qr)\n",
        "print(\"\\nTask 3 - Both answers span the same space:\", span_check)"
      ],
      "metadata": {
        "colab": {
          "base_uri": "https://localhost:8080/"
        },
        "id": "WDl6cXT6kqD9",
        "outputId": "e221082b-a387-4003-f58d-b2012422bcb0"
      },
      "execution_count": 4,
      "outputs": [
        {
          "output_type": "stream",
          "name": "stdout",
          "text": [
            "\n",
            "Task 3 - Both answers span the same space: False\n"
          ]
        }
      ]
    },
    {
      "cell_type": "code",
      "source": [],
      "metadata": {
        "id": "tg5wWBiRkxkQ"
      },
      "execution_count": null,
      "outputs": []
    }
  ]
}