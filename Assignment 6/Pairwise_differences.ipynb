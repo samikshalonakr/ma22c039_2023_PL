{
  "nbformat": 4,
  "nbformat_minor": 0,
  "metadata": {
    "colab": {
      "provenance": []
    },
    "kernelspec": {
      "name": "python3",
      "display_name": "Python 3"
    },
    "language_info": {
      "name": "python"
    }
  },
  "cells": [
    {
      "cell_type": "code",
      "execution_count": 1,
      "metadata": {
        "id": "ynF5w8e-6mXd"
      },
      "outputs": [],
      "source": [
        "import numpy as np\n",
        "x = np.random.rand(5)"
      ]
    },
    {
      "cell_type": "code",
      "source": [
        "D = x[:, None] - x\n",
        "#Explanation:\n",
        "#x[:, None] reshapes the 1D array x into a column vector. This is done to enable broadcasting.\n",
        "#x[:, None] - x performs the pairwise subtraction, where each element in the column vector is subtracted from each element in x. This takes advantage of numpy's broadcasting feature.\n",
        "#After running this code, D will be a 2D numpy array where D[i, j] contains the value xi - xj."
      ],
      "metadata": {
        "id": "fykRk45N6wLG"
      },
      "execution_count": 4,
      "outputs": []
    },
    {
      "cell_type": "code",
      "source": [],
      "metadata": {
        "id": "m47jgIaH7eG0"
      },
      "execution_count": null,
      "outputs": []
    }
  ]
}