{
  "nbformat": 4,
  "nbformat_minor": 0,
  "metadata": {
    "colab": {
      "provenance": []
    },
    "kernelspec": {
      "name": "python3",
      "display_name": "Python 3"
    },
    "language_info": {
      "name": "python"
    }
  },
  "cells": [
    {
      "cell_type": "code",
      "execution_count": 2,
      "metadata": {
        "colab": {
          "base_uri": "https://localhost:8080/",
          "height": 297
        },
        "id": "iS1j0xSVClx_",
        "outputId": "9414fcd0-c38a-457d-e4b5-9f234fd355a4"
      },
      "outputs": [
        {
          "name": "stdout",
          "output_type": "stream",
          "text": [
            "a(interval started from a)= 0\n",
            "b(interval ended at b)= 1\n",
            "eps(for accuracy)= 10^(-6)\n"
          ]
        },
        {
          "output_type": "error",
          "ename": "ValueError",
          "evalue": "ignored",
          "traceback": [
            "\u001b[0;31m---------------------------------------------------------------------------\u001b[0m",
            "\u001b[0;31mValueError\u001b[0m                                Traceback (most recent call last)",
            "\u001b[0;32m<ipython-input-2-0534f2503146>\u001b[0m in \u001b[0;36m<cell line: 6>\u001b[0;34m()\u001b[0m\n\u001b[1;32m      4\u001b[0m \u001b[0ma\u001b[0m\u001b[0;34m=\u001b[0m\u001b[0mfloat\u001b[0m\u001b[0;34m(\u001b[0m\u001b[0minput\u001b[0m\u001b[0;34m(\u001b[0m\u001b[0;34m\"a(interval started from a)= \"\u001b[0m\u001b[0;34m)\u001b[0m\u001b[0;34m)\u001b[0m\u001b[0;34m\u001b[0m\u001b[0;34m\u001b[0m\u001b[0m\n\u001b[1;32m      5\u001b[0m \u001b[0mb\u001b[0m\u001b[0;34m=\u001b[0m\u001b[0mfloat\u001b[0m\u001b[0;34m(\u001b[0m\u001b[0minput\u001b[0m\u001b[0;34m(\u001b[0m\u001b[0;34m\"b(interval ended at b)= \"\u001b[0m\u001b[0;34m)\u001b[0m\u001b[0;34m)\u001b[0m\u001b[0;34m\u001b[0m\u001b[0;34m\u001b[0m\u001b[0m\n\u001b[0;32m----> 6\u001b[0;31m \u001b[0meps\u001b[0m\u001b[0;34m=\u001b[0m\u001b[0mfloat\u001b[0m\u001b[0;34m(\u001b[0m\u001b[0minput\u001b[0m\u001b[0;34m(\u001b[0m\u001b[0;34m\"eps(for accuracy)= \"\u001b[0m\u001b[0;34m)\u001b[0m\u001b[0;34m)\u001b[0m\u001b[0;34m\u001b[0m\u001b[0;34m\u001b[0m\u001b[0m\n\u001b[0m\u001b[1;32m      7\u001b[0m \u001b[0;34m\u001b[0m\u001b[0m\n\u001b[1;32m      8\u001b[0m \u001b[0mfun\u001b[0m\u001b[0;34m=\u001b[0m\u001b[0minput\u001b[0m\u001b[0;34m(\u001b[0m\u001b[0;34m'type your function = '\u001b[0m\u001b[0;34m)\u001b[0m\u001b[0;34m\u001b[0m\u001b[0;34m\u001b[0m\u001b[0m\n",
            "\u001b[0;31mValueError\u001b[0m: could not convert string to float: '10^(-6)'"
          ]
        }
      ],
      "source": [
        "import math\n",
        "from math import cos,sin\n",
        "\n",
        "a=float(input(\"a(interval started from a)= \"))\n",
        "b=float(input(\"b(interval ended at b)= \"))\n",
        "eps=float(input(\"eps(for accuracy)= \"))\n",
        "\n",
        "fun=input('type your function = ')\n",
        "\n",
        "def func():\n",
        "    \"\"\"it convert veriabal fun (which is sting and which contain mathematical expretion) into a mathematical function \"\"\"\n",
        "    return lambda x: eval(fun)\n",
        "\n",
        "\n",
        "def no_of_iterations(a,b,eps):\n",
        "    \"\"\"this function gives number of iterations \"\"\"\n",
        "    i=0\n",
        "    while (b-a)/(2**i)>eps:\n",
        "        i+=1\n",
        "    print(f'number of iterations={i}')\n",
        "    return i\n",
        "\n",
        "\n",
        "def bisection(f, a, b, eps, niters):\n",
        "    \"\"\"this function calculate root with the help of bisection method \"\"\"\n",
        "    if f(a) * f(b) > 0:\n",
        "        return print('f(a) and f(b) must be of apposit sign')\n",
        "    else:\n",
        "        for i in range(niters+1):\n",
        "            if f(a) * f(b) == 0:\n",
        "                if f(a)==0:\n",
        "                    return print(f\"{a} is root of function\")\n",
        "                else:\n",
        "                    return print(f\"{b} is root of function\")\n",
        "            if f(a)*f(b)<0:\n",
        "                c=(a+b)/2\n",
        "                if f(a) * f(c) < 0:\n",
        "                    b=c\n",
        "                else:\n",
        "                    a=c\n",
        "        print(f\"root(using bisection) = {c}\")\n",
        "        print(f\"value of function at root(using bisection)= {f(c)}\")\n",
        "\n",
        "f=func()\n",
        "niters=no_of_iterations(a,b,eps)\n",
        "\n",
        "bisection(f,a,b,eps,niters)\n"
      ]
    }
  ]
}