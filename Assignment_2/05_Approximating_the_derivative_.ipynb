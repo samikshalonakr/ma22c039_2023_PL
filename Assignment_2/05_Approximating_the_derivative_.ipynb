{
  "nbformat": 4,
  "nbformat_minor": 0,
  "metadata": {
    "colab": {
      "provenance": []
    },
    "kernelspec": {
      "name": "python3",
      "display_name": "Python 3"
    },
    "language_info": {
      "name": "python"
    }
  },
  "cells": [
    {
      "cell_type": "code",
      "execution_count": 1,
      "metadata": {
        "colab": {
          "base_uri": "https://localhost:8080/"
        },
        "id": "buI-bDQTu3H5",
        "outputId": "4c154c51-d23a-4990-cf3a-ea2a3596c374"
      },
      "outputs": [
        {
          "output_type": "execute_result",
          "data": {
            "text/plain": [
              "-0.19866933079506122"
            ]
          },
          "metadata": {},
          "execution_count": 1
        }
      ],
      "source": [
        "# In this activity, we look at computing a numerical approximation to the derivative.\n",
        "# We can write a generic function D2 for implementing the formula for any f.\n",
        "\n",
        "def D2(f, x, h=1E-6):\n",
        "   return (f(x-h) - 2*f(x) + f(x+h)) / (h*h)\n",
        "#Let’s apply the formula to some nice function, say the sine function.\n",
        "\n",
        "from math import sin\n",
        "\n",
        "D2(sin, 0.2)\n",
        "\n",
        "# Of course we know that second derivative of sin(x) is negative of itself, so a quick test of\n",
        "# correctness is to compare the above value to that of − sin(0.2).\n",
        "\n",
        "-sin(0.2)\n",
        "\n"
      ]
    },
    {
      "cell_type": "code",
      "source": [
        "# One way is to defne a function returning sin(2 ∗ x)\n",
        "# and then pass it to D2, as follows.\n",
        "\n",
        "def g(x):\n",
        "    return sin(2*x)\n",
        "D2(g, 0.2)\n",
        "\n",
        "# An alternate way is using a lambda function. This gives a one-liner without damaging code\n",
        "#readability.\n",
        "\n",
        "D2(lambda x: sin(2*x), 0.2) # central diff approximation\n",
        "\n",
        "# In either case the computed value approximates the actual value of sin′′(2x) =\n",
        "# −4 sin(2x), thus verifying our code.\n",
        "-4*sin(2* 0.2)      # actual 2nd derivative value\n"
      ],
      "metadata": {
        "colab": {
          "base_uri": "https://localhost:8080/"
        },
        "id": "hoPbQ5AtxCe6",
        "outputId": "759c824b-f559-4f1c-9385-1da2680463ec"
      },
      "execution_count": 2,
      "outputs": [
        {
          "output_type": "execute_result",
          "data": {
            "text/plain": [
              "-1.557673369234602"
            ]
          },
          "metadata": {},
          "execution_count": 2
        }
      ]
    },
    {
      "cell_type": "code",
      "source": [
        "# Error computation\n",
        "# In the code below, we subtract this exact derivative from the computed derivative\n",
        "#approximation to obtain the error.\n",
        "\n",
        "print(' h D2 Result Error')\n",
        "for k in range(4,8):\n",
        "    h = 2**(-k)\n",
        "    d2g = D2(lambda x: x**-6, 1, h=h)\n",
        "    e = d2g - 42\n",
        "print('%.0e %.5f %7.6f' %(h, d2g, e))\n",
        "#Clearly, we observe that the error decreases by a factor of 4 when h is halved.\n"
      ],
      "metadata": {
        "colab": {
          "base_uri": "https://localhost:8080/"
        },
        "id": "-SQvjBW3xQUO",
        "outputId": "e7a55de2-d121-4df7-bd6c-85be268ef8b2"
      },
      "execution_count": 3,
      "outputs": [
        {
          "output_type": "stream",
          "name": "stdout",
          "text": [
            " h D2 Result Error\n",
            "8e-03 42.01538 0.015384\n"
          ]
        }
      ]
    },
    {
      "cell_type": "code",
      "source": [
        "# let us aggressively reduce h by a factor of 10, going down to 10^−13\n",
        "# and look at the results.\n",
        "\n",
        "for k in range(1,14):\n",
        "    h = 10**(-k)\n",
        "    d2g = D2(lambda x: x**-6,1, h)\n",
        "print('%.0e %18.5f' %(h, d2g))\n",
        "\n",
        "#Although a mathematical argument led us to expect better approximations as h → 0, we\n",
        "#find that the results from our computer for h < 10^−8 are totally wrong! The problem is\n",
        "#that computers cannot do exact arithmetic"
      ],
      "metadata": {
        "colab": {
          "base_uri": "https://localhost:8080/"
        },
        "id": "yswhhqzbyWtw",
        "outputId": "234e4129-75d0-4b2f-dcd2-7afdd3d2a42a"
      },
      "execution_count": 6,
      "outputs": [
        {
          "output_type": "stream",
          "name": "stdout",
          "text": [
            "1e-13  66613381477.50939\n"
          ]
        }
      ]
    }
  ]
}