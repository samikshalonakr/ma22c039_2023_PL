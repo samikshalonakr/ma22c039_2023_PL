{
  "nbformat": 4,
  "nbformat_minor": 0,
  "metadata": {
    "colab": {
      "provenance": []
    },
    "kernelspec": {
      "name": "python3",
      "display_name": "Python 3"
    },
    "language_info": {
      "name": "python"
    }
  },
  "cells": [
    {
      "cell_type": "code",
      "execution_count": 1,
      "metadata": {
        "id": "KzHX9TpG43Fe"
      },
      "outputs": [],
      "source": [
        "import numpy as np\n",
        "\n",
        "# Define the transition probability matrix for the given Markov chain\n",
        "P = np.array([[0, 1/2, 1/2, 0, 0, 0, 0],\n",
        "              [1/2, 0, 1/2, 0, 0, 0, 0],\n",
        "              [1/3, 1/3, 0, 1/3, 0, 0, 0],\n",
        "              [0, 0, 1/4, 1/4, 1/4, 1/4, 0],\n",
        "              [0, 0, 0, 0, 0, 1, 0],\n",
        "              [0, 0, 0, 0, 0, 1/2, 1/2],\n",
        "              [0, 0, 0, 0, 0, 0, 1]])"
      ]
    },
    {
      "cell_type": "code",
      "source": [
        "# Task 1: Probability of hitting one state from another state\n",
        "# Using eigenvalues and eigenvectors\n",
        "eigenvalues, eigenvectors = np.linalg.eig(P.T)\n",
        "index = np.argmax(eigenvalues)\n",
        "stationary_distribution = eigenvectors[:, index].real\n",
        "stationary_distribution /= stationary_distribution.sum()"
      ],
      "metadata": {
        "id": "HvTs07UY4-rs"
      },
      "execution_count": 2,
      "outputs": []
    },
    {
      "cell_type": "code",
      "source": [
        "# Task 2: Starting from B={3}, probability of hitting A={0, 1, 2}\n",
        "B_to_A_prob = stationary_distribution[[0, 1, 2]].sum()\n",
        "\n",
        "# Starting from any state in B={0, 1, 2}, probability of hitting A={3}\n",
        "B_to_A3_prob = stationary_distribution[3]"
      ],
      "metadata": {
        "id": "WmEYztcs4_gA"
      },
      "execution_count": 3,
      "outputs": []
    },
    {
      "cell_type": "code",
      "source": [
        "# Task 3: Hitting probabilities from remaining states\n",
        "hitting_prob_A012 = stationary_distribution[[4, 5, 6]].sum()\n",
        "hitting_prob_A456 = stationary_distribution[[0, 1, 2, 3]].sum()\n",
        "hitting_prob_A3 = stationary_distribution[[0, 1, 2, 4, 5, 6]].sum()"
      ],
      "metadata": {
        "id": "RAWHRg4F5Csu"
      },
      "execution_count": 4,
      "outputs": []
    },
    {
      "cell_type": "code",
      "source": [
        "# Task 4: Probability of hitting 0 starting from 1, and hitting 6 starting from 3\n",
        "prob_hit_0_from_1 = stationary_distribution[0]\n",
        "prob_hit_6_from_3 = stationary_distribution[6]"
      ],
      "metadata": {
        "id": "PZSKk3un5Gfp"
      },
      "execution_count": 5,
      "outputs": []
    },
    {
      "cell_type": "code",
      "source": [
        "# Print the results\n",
        "print(f\"Task 1: Probability of hitting one state from another state = {stationary_distribution}\")"
      ],
      "metadata": {
        "colab": {
          "base_uri": "https://localhost:8080/"
        },
        "id": "bhYqmIiA5SYN",
        "outputId": "13d8dd69-2493-4c48-972d-246c49e60aed"
      },
      "execution_count": 6,
      "outputs": [
        {
          "output_type": "stream",
          "name": "stdout",
          "text": [
            "Task 1: Probability of hitting one state from another state = [0. 0. 0. 0. 0. 0. 1.]\n"
          ]
        }
      ]
    },
    {
      "cell_type": "code",
      "source": [
        "print(f\"Task 2: Starting from B={{3}}, probability of hitting A={{0, 1, 2}} = {B_to_A_prob}\")"
      ],
      "metadata": {
        "colab": {
          "base_uri": "https://localhost:8080/"
        },
        "id": "s_H_DJqG5Woq",
        "outputId": "495b1030-89bb-4168-9ce2-776e87bccde1"
      },
      "execution_count": 7,
      "outputs": [
        {
          "output_type": "stream",
          "name": "stdout",
          "text": [
            "Task 2: Starting from B={3}, probability of hitting A={0, 1, 2} = 0.0\n"
          ]
        }
      ]
    },
    {
      "cell_type": "code",
      "source": [
        "print(f\"Starting from any state in B={{0, 1, 2}}, probability of hitting A={{3}} = {B_to_A3_prob}\")"
      ],
      "metadata": {
        "colab": {
          "base_uri": "https://localhost:8080/"
        },
        "id": "Fn1_EFdQ5ax5",
        "outputId": "0ae0556a-e809-427a-8bfc-cf5b3d838e4b"
      },
      "execution_count": 8,
      "outputs": [
        {
          "output_type": "stream",
          "name": "stdout",
          "text": [
            "Starting from any state in B={0, 1, 2}, probability of hitting A={3} = 0.0\n"
          ]
        }
      ]
    },
    {
      "cell_type": "code",
      "source": [
        "print(f\"Task 3: Hitting probabilities of A={{0, 1, 2}} from remaining states = {hitting_prob_A012}\")"
      ],
      "metadata": {
        "colab": {
          "base_uri": "https://localhost:8080/"
        },
        "id": "rkMC6PE45ey4",
        "outputId": "35afe7a9-51b0-4a68-cb73-45b3ed91acd7"
      },
      "execution_count": 9,
      "outputs": [
        {
          "output_type": "stream",
          "name": "stdout",
          "text": [
            "Task 3: Hitting probabilities of A={0, 1, 2} from remaining states = 1.0\n"
          ]
        }
      ]
    },
    {
      "cell_type": "code",
      "source": [
        "print(f\"Hitting probabilities of A={{4, 5, 6}} from remaining states = {hitting_prob_A456}\")"
      ],
      "metadata": {
        "colab": {
          "base_uri": "https://localhost:8080/"
        },
        "id": "vnbbogrK5hGv",
        "outputId": "07dedae3-55df-4874-8df5-95ea4482fa1b"
      },
      "execution_count": 10,
      "outputs": [
        {
          "output_type": "stream",
          "name": "stdout",
          "text": [
            "Hitting probabilities of A={4, 5, 6} from remaining states = 0.0\n"
          ]
        }
      ]
    },
    {
      "cell_type": "code",
      "source": [
        "print(f\"Hitting probabilities of A={{3}} from remaining states = {hitting_prob_A3}\")"
      ],
      "metadata": {
        "colab": {
          "base_uri": "https://localhost:8080/"
        },
        "id": "44RUWi7h5mkv",
        "outputId": "02ed5853-d274-4d7a-8bde-b600a60a4ea3"
      },
      "execution_count": 11,
      "outputs": [
        {
          "output_type": "stream",
          "name": "stdout",
          "text": [
            "Hitting probabilities of A={3} from remaining states = 1.0\n"
          ]
        }
      ]
    },
    {
      "cell_type": "code",
      "source": [
        "print(f\"Task 4: Probability of hitting 0 starting from 1 = {prob_hit_0_from_1}\")"
      ],
      "metadata": {
        "colab": {
          "base_uri": "https://localhost:8080/"
        },
        "id": "mn_YUBtx5pWf",
        "outputId": "7fd576a6-ab34-4324-fc1c-c31aeeed4597"
      },
      "execution_count": 12,
      "outputs": [
        {
          "output_type": "stream",
          "name": "stdout",
          "text": [
            "Task 4: Probability of hitting 0 starting from 1 = 0.0\n"
          ]
        }
      ]
    },
    {
      "cell_type": "code",
      "source": [
        "print(f\"Probability of hitting 6 starting from 3 = {prob_hit_6_from_3}\")"
      ],
      "metadata": {
        "colab": {
          "base_uri": "https://localhost:8080/"
        },
        "id": "vXXu4ZBS5rXX",
        "outputId": "ed6dc4e5-270f-4ae0-e478-d142a2473502"
      },
      "execution_count": 13,
      "outputs": [
        {
          "output_type": "stream",
          "name": "stdout",
          "text": [
            "Probability of hitting 6 starting from 3 = 1.0\n"
          ]
        }
      ]
    },
    {
      "cell_type": "code",
      "source": [],
      "metadata": {
        "id": "j_uoOGT_5ts_"
      },
      "execution_count": null,
      "outputs": []
    }
  ]
}