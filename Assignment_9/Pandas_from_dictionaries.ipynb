{
  "nbformat": 4,
  "nbformat_minor": 0,
  "metadata": {
    "colab": {
      "provenance": []
    },
    "kernelspec": {
      "name": "python3",
      "display_name": "Python 3"
    },
    "language_info": {
      "name": "python"
    }
  },
  "cells": [
    {
      "cell_type": "code",
      "execution_count": 1,
      "metadata": {
        "colab": {
          "base_uri": "https://localhost:8080/"
        },
        "id": "wn6g_qPBMILM",
        "outputId": "2f3067a7-a755-41cd-bd16-464bee4372ed"
      },
      "outputs": [
        {
          "output_type": "stream",
          "name": "stdout",
          "text": [
            "2    a\n",
            "1    b\n",
            "3    c\n",
            "dtype: object\n"
          ]
        }
      ],
      "source": [
        "import pandas as pd\n",
        "\n",
        "d0 = {2: 'a', 1: 'b', 3: 'c'}#dictionary d0 has keys 2, 1, and 3, with corresponding values 'a', 'b', and 'c'\n",
        "pd0 = pd.Series(d0)#create a Series from this dictionary\n",
        "\n",
        "print(pd0)"
      ]
    },
    {
      "cell_type": "code",
      "source": [
        "# Sort the indices\n",
        "#Sort the Series pd0 by its index\n",
        "pd0 = pd0.sort_index()\n",
        "\n",
        "print(pd0)"
      ],
      "metadata": {
        "colab": {
          "base_uri": "https://localhost:8080/"
        },
        "id": "rUSn-C_1Mjfb",
        "outputId": "aa5be268-5840-4868-958c-263b5a6ecb1e"
      },
      "execution_count": 2,
      "outputs": [
        {
          "output_type": "stream",
          "name": "stdout",
          "text": [
            "1    b\n",
            "2    a\n",
            "3    c\n",
            "dtype: object\n"
          ]
        }
      ]
    },
    {
      "cell_type": "code",
      "source": [
        "d1 = {'a': 1, 'b': 2}\n",
        "d2 = {'b': 3, 'c': 4}\n",
        "\n",
        "# Create Series from d1 and d2\n",
        "pd1 = pd.Series(d1)\n",
        "pd2 = pd.Series(d2)\n",
        "\n",
        "# Concatenate the Series into a DataFrame\n",
        "#The pd1 and pd2 Series are concatenated horizontally along axis 1 to create a DataFrame dd.\n",
        "# The keys parameter is used to label the columns 'd1' and 'd2' in the resulting DataFrame.\n",
        "dd = pd.concat([pd1, pd2], axis=1, keys=['d1', 'd2'])\n",
        "\n",
        "print(dd)"
      ],
      "metadata": {
        "colab": {
          "base_uri": "https://localhost:8080/"
        },
        "id": "n3GTpIn5MnT1",
        "outputId": "1bc707d2-deab-4ce2-913f-d5cb493d8170"
      },
      "execution_count": 3,
      "outputs": [
        {
          "output_type": "stream",
          "name": "stdout",
          "text": [
            "    d1   d2\n",
            "a  1.0  NaN\n",
            "b  2.0  3.0\n",
            "c  NaN  4.0\n"
          ]
        }
      ]
    },
    {
      "cell_type": "code",
      "source": [
        "column_d1 = dd['d1']  # Access the 'd1' column\n",
        "print(column_d1)"
      ],
      "metadata": {
        "colab": {
          "base_uri": "https://localhost:8080/"
        },
        "id": "XLDTsndCMrik",
        "outputId": "9abc7bec-7f2e-41c4-b5c8-444f25dd6b28"
      },
      "execution_count": 4,
      "outputs": [
        {
          "output_type": "stream",
          "name": "stdout",
          "text": [
            "a    1.0\n",
            "b    2.0\n",
            "c    NaN\n",
            "Name: d1, dtype: float64\n"
          ]
        }
      ]
    },
    {
      "cell_type": "code",
      "source": [
        "columns_d1_and_d2 = dd[['d1', 'd2']]  # Access both 'd1' and 'd2' columns\n",
        "print(columns_d1_and_d2)"
      ],
      "metadata": {
        "colab": {
          "base_uri": "https://localhost:8080/"
        },
        "id": "3cmI1-aDMu6V",
        "outputId": "cfb8c674-012d-41ef-b83c-f3b7f4bb9b54"
      },
      "execution_count": 5,
      "outputs": [
        {
          "output_type": "stream",
          "name": "stdout",
          "text": [
            "    d1   d2\n",
            "a  1.0  NaN\n",
            "b  2.0  3.0\n",
            "c  NaN  4.0\n"
          ]
        }
      ]
    },
    {
      "cell_type": "code",
      "source": [
        "# Access rows from index 1 to 2 (inclusive)\n",
        "sliced_rows = dd[1:3]#stop index is not include.\n",
        "print(sliced_rows)"
      ],
      "metadata": {
        "colab": {
          "base_uri": "https://localhost:8080/"
        },
        "id": "TvB8Cak8MxSB",
        "outputId": "920f680c-db75-49b2-e48b-e3e031aff481"
      },
      "execution_count": 6,
      "outputs": [
        {
          "output_type": "stream",
          "name": "stdout",
          "text": [
            "    d1   d2\n",
            "b  2.0  3.0\n",
            "c  NaN  4.0\n"
          ]
        }
      ]
    },
    {
      "cell_type": "code",
      "source": [
        "# Access specific rows by label and specific columns by label\n",
        "sliced_subset = dd.loc[['a', 'b', 'c'], ['d1', 'd2']]\n",
        "print(sliced_subset)"
      ],
      "metadata": {
        "colab": {
          "base_uri": "https://localhost:8080/"
        },
        "id": "1R0Pp7lYM3zp",
        "outputId": "a8223bb0-16cb-4cc4-bbe2-79597a2b05f5"
      },
      "execution_count": 7,
      "outputs": [
        {
          "output_type": "stream",
          "name": "stdout",
          "text": [
            "    d1   d2\n",
            "a  1.0  NaN\n",
            "b  2.0  3.0\n",
            "c  NaN  4.0\n"
          ]
        }
      ]
    },
    {
      "cell_type": "code",
      "source": [
        "# Access specific rows and columns by integer position\n",
        "sliced_subset_iloc = dd.iloc[1:3, 0:1]  # Access rows 1 and 2, columns 0\n",
        "print(sliced_subset_iloc)"
      ],
      "metadata": {
        "colab": {
          "base_uri": "https://localhost:8080/"
        },
        "id": "j_JNtof3NAEa",
        "outputId": "8f4d905a-74a7-428e-c340-6fe7b76e3a94"
      },
      "execution_count": 8,
      "outputs": [
        {
          "output_type": "stream",
          "name": "stdout",
          "text": [
            "    d1\n",
            "b  2.0\n",
            "c  NaN\n"
          ]
        }
      ]
    },
    {
      "cell_type": "code",
      "source": [
        "# Access the first row (integer position 0) and the first column (integer position 0)\n",
        "value = dd.iloc[0, 0]\n",
        "print(value)"
      ],
      "metadata": {
        "colab": {
          "base_uri": "https://localhost:8080/"
        },
        "id": "aFB0RkQcNDVg",
        "outputId": "0f3737b8-3c1d-46dc-b8d0-cdaa7f288861"
      },
      "execution_count": 9,
      "outputs": [
        {
          "output_type": "stream",
          "name": "stdout",
          "text": [
            "1.0\n"
          ]
        }
      ]
    },
    {
      "cell_type": "code",
      "source": [
        "# Access a subset of rows and columns using integer positions\n",
        "subset = dd.iloc[1:3, 0:2]  # Rows 1 and 2, columns 0 and 1\n",
        "print(subset)"
      ],
      "metadata": {
        "colab": {
          "base_uri": "https://localhost:8080/"
        },
        "id": "jg1Fe51ENHjx",
        "outputId": "e6b19677-69e7-4a94-b2f9-50b4d65af3aa"
      },
      "execution_count": 10,
      "outputs": [
        {
          "output_type": "stream",
          "name": "stdout",
          "text": [
            "    d1   d2\n",
            "b  2.0  3.0\n",
            "c  NaN  4.0\n"
          ]
        }
      ]
    },
    {
      "cell_type": "code",
      "source": [
        "# Forward fill along rows (axis 0)\n",
        "print(f\"orignal dataframe\\n {dd}\\n\")\n",
        "filled_df_rows = dd.fillna(method='ffill', axis=0)\n",
        "print(f\"forwaded filling along axes 0(row) \\n{filled_df_rows}\")"
      ],
      "metadata": {
        "colab": {
          "base_uri": "https://localhost:8080/"
        },
        "id": "sC3t1VXKNKEJ",
        "outputId": "af2286c8-9fc3-44b3-de17-3efaba4b467f"
      },
      "execution_count": 11,
      "outputs": [
        {
          "output_type": "stream",
          "name": "stdout",
          "text": [
            "orignal dataframe\n",
            "     d1   d2\n",
            "a  1.0  NaN\n",
            "b  2.0  3.0\n",
            "c  NaN  4.0\n",
            "\n",
            "forwaded filling along axes 0(row) \n",
            "    d1   d2\n",
            "a  1.0  NaN\n",
            "b  2.0  3.0\n",
            "c  2.0  4.0\n"
          ]
        }
      ]
    },
    {
      "cell_type": "code",
      "source": [
        "# Forward fill along columns (axis 1)\n",
        "filled_df_columns = dd.fillna(method='ffill', axis=1)\n",
        "print(f\"forwaded filling along axes 1(colume) \\n{filled_df_columns}\")"
      ],
      "metadata": {
        "colab": {
          "base_uri": "https://localhost:8080/"
        },
        "id": "r9dg57lrNOEb",
        "outputId": "d1cc3322-8827-4fe8-b02a-40e5cda1c1dc"
      },
      "execution_count": 12,
      "outputs": [
        {
          "output_type": "stream",
          "name": "stdout",
          "text": [
            "forwaded filling along axes 1(colume) \n",
            "    d1   d2\n",
            "a  1.0  1.0\n",
            "b  2.0  3.0\n",
            "c  NaN  4.0\n"
          ]
        }
      ]
    },
    {
      "cell_type": "code",
      "source": [
        "# Backward fill along rows (axis 0)\n",
        "filled_df_rows = dd.fillna(method='bfill', axis=0)\n",
        "print(f\"backward filling along axes 0(row) \\n{filled_df_rows}\")"
      ],
      "metadata": {
        "colab": {
          "base_uri": "https://localhost:8080/"
        },
        "id": "GFe4xy8zNTUR",
        "outputId": "d6e2c636-a75f-4e13-f7f8-e44659bc9e05"
      },
      "execution_count": 13,
      "outputs": [
        {
          "output_type": "stream",
          "name": "stdout",
          "text": [
            "backward filling along axes 0(row) \n",
            "    d1   d2\n",
            "a  1.0  3.0\n",
            "b  2.0  3.0\n",
            "c  NaN  4.0\n"
          ]
        }
      ]
    },
    {
      "cell_type": "code",
      "source": [
        "# Backward fill along columns (axis 1)\n",
        "filled_df_columns = dd.fillna(method='bfill', axis=1)\n",
        "print(f\"backward filling along axes 1(colume) \\n{filled_df_columns}\")"
      ],
      "metadata": {
        "id": "SHCIZm7XNXYI",
        "outputId": "8f2cdd69-0408-439b-87c2-ba8b23f627fb",
        "colab": {
          "base_uri": "https://localhost:8080/"
        }
      },
      "execution_count": 14,
      "outputs": [
        {
          "output_type": "stream",
          "name": "stdout",
          "text": [
            "backward filling along axes 1(colume) \n",
            "    d1   d2\n",
            "a  1.0  NaN\n",
            "b  2.0  3.0\n",
            "c  4.0  4.0\n"
          ]
        }
      ]
    },
    {
      "cell_type": "code",
      "source": [],
      "metadata": {
        "id": "-kYHY_svNaGg"
      },
      "execution_count": null,
      "outputs": []
    }
  ]
}